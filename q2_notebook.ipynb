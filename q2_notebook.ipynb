{
 "cells": [
  {
   "cell_type": "code",
   "id": "initial_id",
   "metadata": {
    "collapsed": true,
    "ExecuteTime": {
     "end_time": "2024-09-25T07:49:21.423987Z",
     "start_time": "2024-09-25T07:49:21.420145Z"
    }
   },
   "source": [
    "# making the necessary imports\n",
    "import numpy as np\n",
    "import pandas as pd\n",
    "import matplotlib.pyplot as plt\n",
    "import torch\n",
    "import os\n",
    "import torch_geometric as tg\n",
    "import torch_geometric.transforms as T\n",
    "import networkx as nx\n",
    "\n",
    "from data.Q2.CustomGraphDataset import CustomGraphDataset"
   ],
   "outputs": [],
   "execution_count": 6
  },
  {
   "metadata": {
    "ExecuteTime": {
     "end_time": "2024-09-25T07:49:40.516318Z",
     "start_time": "2024-09-25T07:49:40.513185Z"
    }
   },
   "cell_type": "code",
   "source": [
    "import warnings\n",
    "warnings.filterwarnings('ignore')"
   ],
   "id": "9c17f7221c6247bf",
   "outputs": [],
   "execution_count": 8
  },
  {
   "metadata": {
    "ExecuteTime": {
     "end_time": "2024-09-25T07:49:41.252932Z",
     "start_time": "2024-09-25T07:49:41.239284Z"
    }
   },
   "cell_type": "code",
   "source": [
    "# loading the dataset from processed_data_old.pt\n",
    "train_data = torch.load('data/Q2/train.pt')\n",
    "val_data = torch.load('data/Q2/val.pt')\n",
    "test_data = torch.load('data/Q2/test.pt')"
   ],
   "id": "116736704470c963",
   "outputs": [],
   "execution_count": 9
  },
  {
   "metadata": {
    "ExecuteTime": {
     "end_time": "2024-09-25T07:50:06.890362Z",
     "start_time": "2024-09-25T07:50:06.886636Z"
    }
   },
   "cell_type": "code",
   "source": [
    "print(train_data)\n",
    "print(val_data)\n",
    "print(test_data)"
   ],
   "id": "f0713defa1565949",
   "outputs": [
    {
     "name": "stdout",
     "output_type": "stream",
     "text": [
      "CustomGraphDataset(150)\n",
      "CustomGraphDataset(19)\n",
      "CustomGraphDataset(19)\n"
     ]
    }
   ],
   "execution_count": 11
  },
  {
   "metadata": {
    "ExecuteTime": {
     "end_time": "2024-09-23T08:21:34.766214Z",
     "start_time": "2024-09-23T08:21:34.470558Z"
    }
   },
   "cell_type": "code",
   "source": "",
   "id": "3baf9939429194a6",
   "outputs": [
    {
     "name": "stdout",
     "output_type": "stream",
     "text": [
      "tensor(23643)\n"
     ]
    }
   ],
   "execution_count": 13
  },
  {
   "metadata": {
    "ExecuteTime": {
     "end_time": "2024-09-23T08:39:08.357227Z",
     "start_time": "2024-09-23T08:39:08.353117Z"
    }
   },
   "cell_type": "code",
   "source": [
    "print(f'{data_v1.edge_index[0][0:20]}\\n{data_v1.edge_index[1][0:20]}')\n",
    "middle = len(data_v1.edge_type)//2\n",
    "print(f'{data_v1.edge_index[0][middle:middle+20]}\\n{data_v1.edge_index[1][middle:middle+20]}')\n",
    "last = len(data_v1.edge_type)\n",
    "print(f'{data_v1.edge_index[0][last-20:last]}\\n{data_v1.edge_index[1][last-20:last]}')"
   ],
   "id": "d6ca9d443520ba3e",
   "outputs": [
    {
     "name": "stdout",
     "output_type": "stream",
     "text": [
      "tensor([0, 0, 0, 0, 1, 1, 1, 1, 2, 2, 3, 3, 3, 3, 4, 4, 4, 4, 5, 5])\n",
      "tensor([ 3733,  9748, 15066, 23086,   234, 10575, 15523, 21536, 17765, 22505,\n",
      "          655,  5200,  9625, 21536, 10060, 10260, 12531, 21536,  6064,  9080])\n",
      "tensor([12590, 12591, 12591, 12591, 12591, 12592, 12592, 12593, 12593, 12593,\n",
      "        12593, 12594, 12594, 12594, 12594, 12595, 12595, 12595, 12595, 12595])\n",
      "tensor([20164,  8561, 15880, 21536, 21700,  8827, 18396,  2847,  6936,  9288,\n",
      "        21536,  3838, 13354, 20414, 21536,  1280,  4431,  8562, 15194, 18194])\n",
      "tensor([23638, 23638, 23639, 23639, 23639, 23639, 23640, 23640, 23640, 23640,\n",
      "        23641, 23641, 23641, 23641, 23642, 23642, 23643, 23643, 23643, 23643])\n",
      "tensor([ 9459, 14588, 14303, 14424, 21536, 23120,  1703,  8774, 15055, 21536,\n",
      "         5472,  7991, 16704, 21536,  9935, 11926,  5804, 16590, 17298, 23086])\n"
     ]
    }
   ],
   "execution_count": 24
  },
  {
   "metadata": {
    "ExecuteTime": {
     "end_time": "2024-09-23T08:16:04.584501Z",
     "start_time": "2024-09-23T08:16:04.565897Z"
    }
   },
   "cell_type": "code",
   "source": "print(data_v1.train_idx)",
   "id": "563005e66bf19732",
   "outputs": [
    {
     "name": "stdout",
     "output_type": "stream",
     "text": [
      "tensor([12971, 11751, 17534, 10835, 13373, 22544, 16421,  2063, 11373, 14379,\n",
      "        19790, 11594,   612, 10364,  6632,  8654,  7264,   273,   480,  2774,\n",
      "         3113, 13052,  8151, 17117, 16928,  8181, 21408, 22003, 13433, 15513,\n",
      "        14481, 17849, 22012,  4230, 15343,  1206,  9594, 14798,  8774,  5274,\n",
      "         9048,  7168, 12099,  7066,  3438,  9784,  7988,  9173, 15136, 11926,\n",
      "         6321,  2999,  3794,  5635,  2596, 16201, 19861,  1064, 23389,  3309,\n",
      "         6631,  5963, 18814, 15163,  8414, 15853,   353, 14990,  2719,  1529,\n",
      "        20825, 17070, 10709, 13830,  9620, 20876,   458, 19894,  7779, 16674,\n",
      "        17349, 13355,  8668,  4995,  7708,  4961,  3070,  1326, 14129,   434,\n",
      "        16973, 16704,  2237, 20656,  9625,  1799,  4364, 18489, 10279, 10137,\n",
      "        11238, 19075, 23093, 22545,  3736, 15726, 15187, 17249, 22597, 20121,\n",
      "        22252,  1763, 19514, 14547, 10907, 18988,  8561,  2546,  6904,  8296,\n",
      "        12194,  7721, 23287,  2238, 19554, 16895, 13519, 17211, 13268,  9872,\n",
      "        20097, 14131, 22067, 20960,  2350, 13881, 21446,  8568, 21274, 18839,\n",
      "         5171,  9080,  2694, 18982,  8020, 20073, 19897, 11146, 21351, 10575,\n",
      "        13589,  2252, 13470, 19423,  2783, 16795,   761, 19578, 22422, 17100,\n",
      "         9982,  9330, 15893,  3066, 20143,  8061, 17765,  1735, 18194, 15785,\n",
      "         2218, 16490, 22405,  1302, 15219,  6263,  4123,  8130, 10139,  2187,\n",
      "        17271, 11249, 11007, 14622,  1641,   849,  9288, 22612, 19619, 10478,\n",
      "        16134,  4978,   118,   941, 14983,  7416,  1812, 19243,  3444, 23498,\n",
      "        19172,  1678, 17661, 21641, 20779, 18674,  4229,  4545, 19121, 10260,\n",
      "        12101, 21561, 15629,  1856,  4032, 18805,  4767, 21237,  5739, 14650,\n",
      "        13849, 14091, 15198, 11027, 19707,   609,  5804, 21112, 20710, 11730,\n",
      "        17616, 21654,  2578,  8937,  6375, 14220,  5830,  1500])\n"
     ]
    }
   ],
   "execution_count": 6
  },
  {
   "metadata": {
    "ExecuteTime": {
     "end_time": "2024-09-23T08:18:43.719561Z",
     "start_time": "2024-09-23T08:18:43.714997Z"
    }
   },
   "cell_type": "code",
   "source": "print(data_v1.train_y)",
   "id": "e9b01032012aeec5",
   "outputs": [
    {
     "name": "stdout",
     "output_type": "stream",
     "text": [
      "tensor([1, 0, 1, 0, 0, 1, 0, 1, 0, 0, 0, 0, 0, 0, 1, 1, 0, 0, 1, 0, 0, 0, 0, 0,\n",
      "        1, 1, 1, 1, 0, 0, 1, 1, 0, 1, 0, 0, 0, 1, 0, 0, 0, 1, 0, 1, 0, 0, 1, 0,\n",
      "        1, 1, 1, 1, 0, 0, 1, 1, 0, 0, 0, 1, 0, 0, 0, 1, 0, 1, 0, 1, 1, 1, 0, 0,\n",
      "        0, 1, 1, 0, 0, 0, 0, 0, 0, 0, 0, 0, 0, 0, 0, 1, 1, 0, 1, 1, 1, 1, 0, 1,\n",
      "        0, 0, 1, 1, 0, 0, 1, 0, 0, 1, 1, 1, 1, 1, 1, 0, 0, 1, 0, 0, 1, 0, 0, 0,\n",
      "        0, 1, 0, 0, 1, 0, 1, 0, 1, 1, 0, 1, 1, 0, 0, 1, 0, 0, 0, 1, 0, 1, 0, 0,\n",
      "        1, 0, 0, 1, 1, 1, 1, 0, 1, 0, 1, 0, 0, 1, 0, 1, 0, 0, 0, 1, 0, 0, 1, 0,\n",
      "        0, 1, 0, 0, 0, 0, 1, 1, 0, 1, 0, 1, 0, 0, 0, 0, 0, 0, 1, 0, 1, 0, 0, 0,\n",
      "        0, 1, 0, 0, 1, 0, 0, 0, 0, 0, 1, 0, 1, 1, 1, 0, 0, 0, 0, 0, 0, 0, 0, 0,\n",
      "        1, 0, 0, 0, 0, 0, 1, 0, 1, 0, 0, 1, 0, 0, 1, 0, 0, 1, 0, 0, 0, 0])\n"
     ]
    }
   ],
   "execution_count": 8
  },
  {
   "metadata": {
    "ExecuteTime": {
     "end_time": "2024-09-23T08:19:47.687561Z",
     "start_time": "2024-09-23T08:19:47.684346Z"
    }
   },
   "cell_type": "code",
   "source": "print(data_v1.val_idx)",
   "id": "f3534e81e1703c0f",
   "outputs": [
    {
     "name": "stdout",
     "output_type": "stream",
     "text": [
      "tensor([12532,  6451,  6236, 10348, 13386, 22638, 18858, 18618,   402,   796,\n",
      "        13669,   813, 17582, 18689,  3925,   801,  4339,   567, 14529, 18126,\n",
      "        15478, 19325, 11207, 17007,  4215,   548, 16679, 18444, 14530, 13810,\n",
      "        20489, 15681, 11436, 22147])\n"
     ]
    }
   ],
   "execution_count": 11
  },
  {
   "metadata": {
    "ExecuteTime": {
     "end_time": "2024-09-23T08:19:26.974161Z",
     "start_time": "2024-09-23T08:19:26.969975Z"
    }
   },
   "cell_type": "code",
   "source": "print(data_v1.val_y)",
   "id": "444cbd1529d5d980",
   "outputs": [
    {
     "name": "stdout",
     "output_type": "stream",
     "text": [
      "tensor([1, 0, 0, 0, 0, 0, 1, 1, 1, 1, 0, 1, 0, 1, 0, 0, 0, 0, 1, 1, 0, 0, 0, 0,\n",
      "        0, 1, 1, 0, 1, 0, 1, 1, 1, 1])\n"
     ]
    }
   ],
   "execution_count": 9
  },
  {
   "metadata": {
    "ExecuteTime": {
     "end_time": "2024-09-23T08:18:25.435736Z",
     "start_time": "2024-09-23T08:18:25.431202Z"
    }
   },
   "cell_type": "code",
   "source": "print(data_v2.y)",
   "id": "c456aa6eae8e1914",
   "outputs": [
    {
     "name": "stdout",
     "output_type": "stream",
     "text": [
      "tensor([-1, -1, -1, -1, -1, -1, -1, -1, -1, -1, -1, -1, -1, -1, -1, -1, -1, -1,\n",
      "        -1, -1, -1, -1, -1, -1, -1, -1, -1, -1, -1, -1, -1, -1, -1, -1, -1, -1,\n",
      "        -1, -1, -1, -1, -1, -1, -1, -1, -1, -1, -1, -1, -1, -1, -1, -1, -1, -1,\n",
      "        -1, -1, -1, -1, -1, -1, -1, -1, -1, -1, -1, -1, -1, -1, -1, -1, -1, -1,\n",
      "        -1, -1, -1, -1, -1, -1, -1, -1, -1, -1, -1, -1, -1, -1, -1, -1, -1, -1,\n",
      "        -1, -1, -1, -1, -1, -1, -1, -1, -1, -1, -1, -1, -1, -1, -1, -1, -1, -1,\n",
      "        -1, -1, -1, -1, -1, -1, -1, -1, -1, -1, -1, -1, -1, -1, -1, -1, -1, -1,\n",
      "        -1, -1, -1, -1, -1, -1, -1, -1, -1, -1, -1, -1, -1, -1, -1, -1, -1, -1,\n",
      "        -1, -1, -1, -1, -1, -1, -1, -1, -1, -1, -1, -1, -1, -1, -1, -1, -1, -1,\n",
      "        -1, -1, -1, -1, -1, -1, -1, -1, -1, -1, -1, -1, -1, -1, -1, -1, -1, -1,\n",
      "        -1, -1, -1, -1, -1, -1, -1, -1])\n"
     ]
    }
   ],
   "execution_count": 7
  },
  {
   "metadata": {
    "ExecuteTime": {
     "end_time": "2024-09-23T08:31:13.001282Z",
     "start_time": "2024-09-23T08:31:12.997379Z"
    }
   },
   "cell_type": "code",
   "source": "from torch_geometric.utils import to_networkx",
   "id": "f643625939e71ab8",
   "outputs": [],
   "execution_count": 14
  },
  {
   "metadata": {
    "ExecuteTime": {
     "end_time": "2024-09-23T08:41:28.716764Z",
     "start_time": "2024-09-23T08:41:28.362972Z"
    }
   },
   "cell_type": "code",
   "source": "G = to_networkx(data_v1, to_undirected=False)",
   "id": "27034f6b1bd62320",
   "outputs": [],
   "execution_count": 27
  },
  {
   "metadata": {
    "ExecuteTime": {
     "end_time": "2024-09-23T08:41:30.133206Z",
     "start_time": "2024-09-23T08:41:30.123900Z"
    }
   },
   "cell_type": "code",
   "source": "print(G.number_of_edges())",
   "id": "d15f0cda677ed971",
   "outputs": [
    {
     "name": "stdout",
     "output_type": "stream",
     "text": [
      "146228\n"
     ]
    }
   ],
   "execution_count": 28
  },
  {
   "metadata": {
    "ExecuteTime": {
     "end_time": "2024-09-23T08:48:17.294879Z",
     "start_time": "2024-09-23T08:48:16.711164Z"
    }
   },
   "cell_type": "code",
   "source": [
    "# make an undirected copy of the digraph\n",
    "UG = G.to_undirected()\n",
    "\n",
    "# extract subgraphs\n",
    "sub_graphs = nx.connected_components(UG)\n",
    "S = [UG.subgraph(c).copy() for c in sub_graphs]\n",
    "print(len(S))\n",
    "\n",
    "# for i, sg in enumerate(sub_graphs):\n",
    "#     print(\"subgraph {} has {} nodes\".format(i, sg.number_of_nodes()))\n",
    "#     print(\"\\tNodes:\", sg.nodes(data=True))\n",
    "#     print(\"\\tEdges:\", sg.edges())"
   ],
   "id": "f1d006edbfb6907b",
   "outputs": [
    {
     "name": "stdout",
     "output_type": "stream",
     "text": [
      "2\n"
     ]
    }
   ],
   "execution_count": 37
  },
  {
   "metadata": {},
   "cell_type": "code",
   "outputs": [],
   "execution_count": null,
   "source": "",
   "id": "41a4013385631fc2"
  }
 ],
 "metadata": {
  "kernelspec": {
   "display_name": "Python 3",
   "language": "python",
   "name": "python3"
  },
  "language_info": {
   "codemirror_mode": {
    "name": "ipython",
    "version": 2
   },
   "file_extension": ".py",
   "mimetype": "text/x-python",
   "name": "python",
   "nbconvert_exporter": "python",
   "pygments_lexer": "ipython2",
   "version": "2.7.6"
  }
 },
 "nbformat": 4,
 "nbformat_minor": 5
}
